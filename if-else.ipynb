{
 "cells": [
  {
   "cell_type": "code",
   "execution_count": 2,
   "metadata": {},
   "outputs": [
    {
     "name": "stdout",
     "output_type": "stream",
     "text": [
      "24\n"
     ]
    }
   ],
   "source": [
    "a = 23\n",
    "b =24\n",
    "if a > b:\n",
    "    print(a)\n",
    "elif b > a:\n",
    "    print(b)\n",
    "else:\n",
    "    print(\"a=b\")"
   ]
  },
  {
   "cell_type": "code",
   "execution_count": 6,
   "metadata": {},
   "outputs": [
    {
     "name": "stdout",
     "output_type": "stream",
     "text": [
      "a is greater than b\n",
      "A\n"
     ]
    }
   ],
   "source": [
    "a = 26\n",
    "b =24\n",
    "if a > b: print(\"a is greater than b\")\n",
    "print(\"A\") if a > b else print(\"B\")"
   ]
  },
  {
   "cell_type": "code",
   "execution_count": 24,
   "metadata": {},
   "outputs": [
    {
     "name": "stdout",
     "output_type": "stream",
     "text": [
      "49 is odd: weird\n"
     ]
    }
   ],
   "source": [
    "# #If  n is odd, print Weird\n",
    "# If n is even and in the inclusive range of  2 to 5 , print Not Weird\n",
    "# If  is even and in the inclusive range of 6  to 20 , print Weird\n",
    "# If  is even and greater than  20, print Not Weird\n",
    "num1 = 49 #int(input(\"entre num1: \"))\n",
    "if num1 %2 != 0:\n",
    "    print(f\"{num1} is odd: weird\")\n",
    "elif num1 in range(2,6):\n",
    "    print(f\"{num1} is even:  Not weird\")\n",
    "elif num1 in range(6,21):\n",
    "    print(f\"{num1} is even: weird\")\n",
    "else:\n",
    "    print(f\"{num1} greatr than 20 and even \")\n",
    "    "
   ]
  },
  {
   "cell_type": "code",
   "execution_count": 30,
   "metadata": {},
   "outputs": [
    {
     "name": "stdout",
     "output_type": "stream",
     "text": [
      "27is greater than 26\n"
     ]
    }
   ],
   "source": [
    "#Write a Python program to find maximum between three numbers.\n",
    "\n",
    "a = 26 #int(input(\"entre num1: \"))\n",
    "b = 26 #int(input(\"entre num2: \"))\n",
    "c = 27 #int(input(\"entre num3: \"))\n",
    "if a > b: \n",
    "    print(f\"{a} is greater than {b}\")\n",
    "elif b > c:\n",
    "    print(f\"{b} is greater than {c}\")\n",
    "else:\n",
    "    print(f\"{c}is greater than {b}\")"
   ]
  },
  {
   "cell_type": "code",
   "execution_count": 39,
   "metadata": {},
   "outputs": [
    {
     "name": "stdout",
     "output_type": "stream",
     "text": [
      "-9 is neg num\n"
     ]
    }
   ],
   "source": [
    "#Write a Python program to check whether a number is negative, positive or zero.\n",
    "a = -9 #int(input(\"entre num1: \"))\n",
    "\n",
    "if a  < 0:\n",
    "    print(f\"{a} is neg num\")\n",
    "elif a  > 0:\n",
    "    print(f\"{a} is pos num\")\n",
    "else:\n",
    "    print(f\"{a} zero\")\n"
   ]
  },
  {
   "cell_type": "code",
   "execution_count": 41,
   "metadata": {},
   "outputs": [
    {
     "name": "stdout",
     "output_type": "stream",
     "text": [
      "55 is divisible by 5 and 11\n"
     ]
    }
   ],
   "source": [
    "#Write a Python program to check whether a number is divisible by 5 and 11 or not.\n",
    "a = 55\n",
    "if a%5 ==0 and a%11 ==0:\n",
    "    print(f\"{a} is divisible by 5 and 11\")\n",
    "else:\n",
    "    print(f\"{a} is not divisible by 5 and 11\")"
   ]
  },
  {
   "cell_type": "code",
   "execution_count": 47,
   "metadata": {},
   "outputs": [
    {
     "name": "stdout",
     "output_type": "stream",
     "text": [
      "2020 is leap year\n"
     ]
    }
   ],
   "source": [
    "#Write a Python program to check whether a year is leap year or not.\n",
    "year = int(input(\"entre the year: \"))\n",
    "if year%4 == 0 and year%100 and year% 400:\n",
    "    print(f\"{year} is leap year\")\n",
    "else:\n",
    "    print(f\"{year} is not a  leap year\")"
   ]
  },
  {
   "cell_type": "code",
   "execution_count": 50,
   "metadata": {},
   "outputs": [
    {
     "name": "stdout",
     "output_type": "stream",
     "text": [
      "90 is not alpha\n"
     ]
    }
   ],
   "source": [
    "#Write a Python program to check whether a character is alphabet or not.\n",
    "a = str(input(\"entre your char: \"))\n",
    "if a.isalpha():\n",
    "    print(f\"{a} is alpha\")\n",
    "else:\n",
    "    print(f\"{a} is not alpha\")"
   ]
  },
  {
   "cell_type": "code",
   "execution_count": null,
   "metadata": {},
   "outputs": [],
   "source": []
  }
 ],
 "metadata": {
  "kernelspec": {
   "display_name": "Python 3",
   "language": "python",
   "name": "python3"
  },
  "language_info": {
   "codemirror_mode": {
    "name": "ipython",
    "version": 3
   },
   "file_extension": ".py",
   "mimetype": "text/x-python",
   "name": "python",
   "nbconvert_exporter": "python",
   "pygments_lexer": "ipython3",
   "version": "3.10.11"
  }
 },
 "nbformat": 4,
 "nbformat_minor": 2
}
