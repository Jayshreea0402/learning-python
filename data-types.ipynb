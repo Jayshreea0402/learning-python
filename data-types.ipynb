{
 "cells": [
  {
   "cell_type": "code",
   "execution_count": 2,
   "metadata": {},
   "outputs": [
    {
     "name": "stdout",
     "output_type": "stream",
     "text": [
      "Hello world\n"
     ]
    }
   ],
   "source": [
    "print(\"Hello world\")"
   ]
  },
  {
   "cell_type": "code",
   "execution_count": 30,
   "metadata": {},
   "outputs": [
    {
     "name": "stdout",
     "output_type": "stream",
     "text": [
      "my age is 24\n",
      "my name is jayshree\n",
      "my salary is 4.0\n",
      "I am interested in devops engineer position\n",
      "I posses ('Iaac', 'Configmanagement', 'containerisation', 'automation') these skills in my resume\n",
      "i have range(0, 3) years of experience\n",
      "I have been to motadata\n",
      "my goals for this years is ('tech', 'mba', 'job-switch')\n"
     ]
    }
   ],
   "source": [
    "#Variable declaration\n",
    "#num \n",
    "age = 24\n",
    "print(f\"my age is {age}\")\n",
    "#string\n",
    "name = \"jayshree\"\n",
    "print(f\"my name is {name}\")\n",
    "#float\n",
    "salary = 4.0\n",
    "print(f\"my salary is {salary}\")\n",
    "#list MUTABLE, CONTAIN DUPLICATE VALUE, []\n",
    "tech = [\"devops\", \"cloud\", \"programming\", \"cloud\"]\n",
    "print(f\"I am interested in {tech[0]} engineer position\")\n",
    "#tuple IMMUTABLE,CONTAIN DUPLICATE VALUE ,()\n",
    "skills = (\"Iaac\", \"Configmanagement\", \"containerisation\", \"automation\")\n",
    "print(f\"I posses {skills} these skills in my resume\")\n",
    "#range REPRESENT SEQUENCE NUMBER, IMMUTABLE\n",
    "ex = range(0,3)\n",
    "print(f\"i have {ex} years of experience\")\n",
    "#dict KEY-VALE, MUTABLE, ACCESSED BY KEY, KEY UNIQUE\n",
    "company = {\"2020\":\"grras\", \"2022\":\"einfochips\", \"2023\":\"motadata\", \"2024\":\"looking for more\"}\n",
    "print(f\"I have been to {company['2023']}\")\n",
    "#set MUTABLE, NO DUPLICATE VALUE, \n",
    "goals = ('tech', 'mba', 'job-switch')\n",
    "print(f\"my goals for this years is {goals}\")\n",
    "\n",
    "\n"
   ]
  },
  {
   "cell_type": "code",
   "execution_count": 16,
   "metadata": {},
   "outputs": [
    {
     "name": "stdout",
     "output_type": "stream",
     "text": [
      "range(1, 6)\n"
     ]
    }
   ],
   "source": [
    "x = range(1,6)\n",
    "print(x)"
   ]
  },
  {
   "cell_type": "code",
   "execution_count": null,
   "metadata": {},
   "outputs": [],
   "source": []
  }
 ],
 "metadata": {
  "kernelspec": {
   "display_name": "Python 3",
   "language": "python",
   "name": "python3"
  },
  "language_info": {
   "codemirror_mode": {
    "name": "ipython",
    "version": 3
   },
   "file_extension": ".py",
   "mimetype": "text/x-python",
   "name": "python",
   "nbconvert_exporter": "python",
   "pygments_lexer": "ipython3",
   "version": "3.10.11"
  }
 },
 "nbformat": 4,
 "nbformat_minor": 2
}
