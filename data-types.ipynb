{
 "cells": [
  {
   "cell_type": "code",
   "execution_count": 2,
   "metadata": {},
   "outputs": [
    {
     "name": "stdout",
     "output_type": "stream",
     "text": [
      "Hello world\n"
     ]
    }
   ],
   "source": [
    "print(\"Hello world\")"
   ]
  },
  {
   "cell_type": "code",
   "execution_count": 30,
   "metadata": {},
   "outputs": [
    {
     "name": "stdout",
     "output_type": "stream",
     "text": [
      "my age is 24\n",
      "my name is jayshree\n",
      "my salary is 4.0\n",
      "I am interested in devops engineer position\n",
      "I posses ('Iaac', 'Configmanagement', 'containerisation', 'automation') these skills in my resume\n",
      "i have range(0, 3) years of experience\n",
      "I have been to motadata\n",
      "my goals for this years is ('tech', 'mba', 'job-switch')\n"
     ]
    }
   ],
   "source": [
    "#Variable declaration\n",
    "#num \n",
    "age = 24\n",
    "print(f\"my age is {age}\")\n",
    "#string\n",
    "name = \"jayshree\"\n",
    "print(f\"my name is {name}\")\n",
    "#float\n",
    "salary = 4.0\n",
    "print(f\"my salary is {salary}\")\n",
    "#list MUTABLE, CONTAIN DUPLICATE VALUE, []\n",
    "tech = [\"devops\", \"cloud\", \"programming\", \"cloud\"]\n",
    "print(f\"I am interested in {tech[0]} engineer position\")\n",
    "#tuple IMMUTABLE,CONTAIN DUPLICATE VALUE ,()\n",
    "skills = (\"Iaac\", \"Configmanagement\", \"containerisation\", \"automation\")\n",
    "print(f\"I posses {skills} these skills in my resume\")\n",
    "#range REPRESENT SEQUENCE NUMBER, IMMUTABLE\n",
    "ex = range(0,3)\n",
    "print(f\"i have {ex} years of experience\")\n",
    "#dict KEY-VALE, MUTABLE, ACCESSED BY KEY, KEY UNIQUE\n",
    "company = {\"2020\":\"grras\", \"2022\":\"einfochips\", \"2023\":\"motadata\", \"2024\":\"looking for more\"}\n",
    "print(f\"I have been to {company['2023']}\")\n",
    "#set MUTABLE, NO DUPLICATE VALUE, \n",
    "goals = ('tech', 'mba', 'job-switch')\n",
    "print(f\"my goals for this years is {goals}\")\n",
    "\n",
    "\n"
   ]
  },
  {
   "cell_type": "code",
   "execution_count": 6,
   "metadata": {},
   "outputs": [
    {
     "name": "stdout",
     "output_type": "stream",
     "text": [
      "<class 'list'>\n",
      "[1, 2, 3, 4, 5]\n"
     ]
    }
   ],
   "source": [
    "x = list(range(1,6))\n",
    "print(type(x))\n",
    "print(x)"
   ]
  },
  {
   "cell_type": "code",
   "execution_count": 11,
   "metadata": {},
   "outputs": [
    {
     "name": "stdout",
     "output_type": "stream",
     "text": [
      "5\n"
     ]
    }
   ],
   "source": [
    "#print any number in between the range\n",
    "import random\n",
    "print(random.randrange(1,10))"
   ]
  },
  {
   "cell_type": "code",
   "execution_count": 10,
   "metadata": {},
   "outputs": [
    {
     "name": "stdout",
     "output_type": "stream",
     "text": [
      "2 2.0 (2+0j)\n"
     ]
    }
   ],
   "source": [
    "a = int(2.88)\n",
    "b = float(2)\n",
    "c = complex(2)\n",
    "print(a,b,c)"
   ]
  },
  {
   "cell_type": "code",
   "execution_count": 79,
   "metadata": {},
   "outputs": [
    {
     "name": "stdout",
     "output_type": "stream",
     "text": [
      "y\n",
      "22\n",
      "True\n",
      "False\n",
      "shree\n",
      "jayshree \n",
      "jayshree acharya...   \n",
      "   \n",
      "JAYSHREE ACHARYA...   \n",
      "jayshree acharya...   \n",
      "jayshree acharya...\n",
      "jayshrii acharya...   \n",
      "joyshree ochoryo...   \n",
      "['jayshree', 'acharya...', '', '', '']\n",
      "['j', 'yshree ', 'ch', 'ry', '...   ']\n",
      "jayshree acharya...   maurya\n",
      "the name is jayshree acharya...   maurya\n",
      "the name is jayshree acharya...   maurya\n",
      "my name is \"jayshree acharya\" \n",
      "It's alright.\n",
      "my name is jayshree acharya...    \\ jayshree acharya...   maurya\n",
      "my name is  jayshree acharya...    \n",
      " maurya using new line\n",
      " maurya using carriagne return here\n",
      "the first word becomes capital:-- Jayshree acharya...   \n",
      "transfer to lower case jayshree acharya...   \n",
      "                                       jayshree acharya...                                          \n",
      "***************************************jayshree acharya...   ***************************************\n",
      "0\n",
      "b'jayshree acharya...   '\n",
      "False\n",
      "True\n",
      "False\n"
     ]
    }
   ],
   "source": [
    "# string functions\n",
    "name = \"jayshree acharya...   \"\n",
    "surname = \"maurya\"\n",
    "print(name[2])\n",
    "#length function\n",
    "print(len(name))\n",
    "# check function\n",
    "print(\"jayshree\" in name)\n",
    "print(\"jay\" not in name) #check function\n",
    "#slicing\n",
    "print(name[3:8]) #slice shree\n",
    "print(name[:9]) #slice to end\n",
    "print(name[0:]) #slice to start\n",
    "print(name[-3:]) #slice to neg\n",
    "#upper function\n",
    "print(name.upper())\n",
    "print(name.lower())\n",
    "print(name.strip())\n",
    "print(name.replace(\"e\",\"i\"))\n",
    "print(name.replace(\"a\",\"o\"))\n",
    "print(name.split(\" \"))\n",
    "print(name.split(\"a\"))\n",
    "full_name = name + surname\n",
    "print(full_name)\n",
    "#placeholders\n",
    "print(f\"the name is {full_name}\")\n",
    "print(f\"the name is {name + surname}\")\n",
    "print(f\"my name is \\\"jayshree acharya\\\" \") #escape character\n",
    "character = 'It\\'s alright.'\n",
    "print(character)\n",
    "print(f\"my name is {name} \\\\ {full_name}\") #doble back slash \n",
    "print(f\"my name is  {name} \\n {surname} using new line\") #new line \\n \n",
    "print(f\"my name is {name} \\r {surname} using carriagne return here\") #carriage return \n",
    "capital = name.capitalize()\n",
    "print(f\"the first word becomes capital:-- {capital}\")\n",
    "case = name.casefold()\n",
    "print(f\"transfer to lower case {case}\")\n",
    "#center\n",
    "print(name.center(100))\n",
    "print(name.center(100, \"*\"))\n",
    "print(name.count(\"a\",2,7)) \n",
    "print(name.encode())\n",
    "print(name.endswith(\"...\"))\n",
    "#there are many more\n"
   ]
  },
  {
   "cell_type": "code",
   "execution_count": 80,
   "metadata": {},
   "outputs": [
    {
     "name": "stdout",
     "output_type": "stream",
     "text": [
      "True\n",
      "False\n",
      "False\n",
      "False\n",
      "False\n",
      "False\n",
      "False\n",
      "False\n",
      "False\n"
     ]
    }
   ],
   "source": [
    "#bool expression\n",
    "print(bool(\"hello\"))\n",
    "print(bool(10>90))\n",
    "#these are the 7 values always false in python\n",
    "print(bool(False))\n",
    "print(bool(None))\n",
    "print(bool(0))\n",
    "print(bool(\"\"))\n",
    "print(bool(()))\n",
    "print(bool([]))\n",
    "print(bool({}))"
   ]
  },
  {
   "cell_type": "code",
   "execution_count": 97,
   "metadata": {},
   "outputs": [
    {
     "name": "stdout",
     "output_type": "stream",
     "text": [
      "57\n",
      "11\n",
      "782\n",
      "1.4782608695652173\n",
      "1\n",
      "11\n",
      "167500108222301408246337399112597504\n",
      "True\n",
      "True\n",
      "False\n",
      "True\n",
      "True\n",
      "False\n",
      "True\n",
      "4.0\n",
      "(6+0j)\n",
      "(2+0j)\n"
     ]
    }
   ],
   "source": [
    "#arithmetic\n",
    "num1 = 34\n",
    "num2 = 23\n",
    "num3 = 23\n",
    "l = ['a', 'b','c']\n",
    "add = (num1+num2)\n",
    "print(add)\n",
    "print(num1-num2)\n",
    "print(num1*num2)\n",
    "print(num1/num2)\n",
    "print(num1//num2)\n",
    "print(num1%num2)\n",
    "print(num1**num2)\n",
    "#and and or \n",
    "print(num1 > 20 and num2 > 20)\n",
    "print(num1 > 20 or num2 > 30)\n",
    "print(num1 is num2)\n",
    "print(num2 is num3)\n",
    "print(num1 is not num3)\n",
    "print(l in l)\n",
    "print(l not in l)\n",
    "print((a+b) - (a-b))\n",
    "print(a+b*c)\n"
   ]
  },
  {
   "cell_type": "code",
   "execution_count": 128,
   "metadata": {},
   "outputs": [
    {
     "name": "stdout",
     "output_type": "stream",
     "text": [
      "5\n",
      "scripting\n",
      "['container', 'cloud', 'scripting', 'automation', 'cloud']\n",
      "automation\n",
      "['container', 'cloud']\n",
      "['container', 'iaac', 'scripting', 'automation', 'cloud']\n",
      "['container', 'iaac', 'devops']\n",
      "['kubernetes', 'container', 'iaac', 'devops']\n",
      "['kubernetes', 'container', 'iaac', 'devops', 'cloudformation']\n",
      "['kubernetes', 'container', 'iaac', 'devops', 'cloudformation', 'programming', 'python', 'go']\n",
      "['kubernetes', 'container', 'iaac', 'devops', 'cloudformation', 'programming', 'python', 'go', 'linux', 'server-config']\n",
      "['kubernetes', 'container', 'iaac', 'devops', 'cloudformation', 'programming', 'python', 'linux', 'server-config']\n",
      "['kubernetes', 'container', 'iaac', 'devops', 'cloudformation', 'programming', 'python', 'linux']\n",
      "linux\n",
      "['container', 'iaac', 'devops', 'cloudformation', 'programming', 'python']\n",
      "container\n",
      "iaac\n",
      "devops\n",
      "cloudformation\n",
      "programming\n",
      "python\n",
      "[]\n"
     ]
    }
   ],
   "source": [
    "#LIST\n",
    "skills = [\"container\", \"cloud\", \"scripting\", \"automation\", \"cloud\"]\n",
    "print(len(skills)) #to get length\n",
    "print(skills[2]) #access\n",
    "print(skills) #duplicate value\n",
    "print(skills[-2])\n",
    "print(skills[:2])\n",
    "skills[1] = \"iaac\" #change one\n",
    "print(skills) #change list\n",
    "skills[2:] = [\"devops\"] #change whole\n",
    "print(skills)\n",
    "skills.insert(0, \"kubernetes\")\n",
    "print(skills)\n",
    "skills.append(\"cloudformation\")\n",
    "print(skills)\n",
    "skills.extend([\"programming\", \"python\", \"go\"])\n",
    "print(skills)\n",
    "addtupple = ('linux', 'server-config')\n",
    "skills.extend(addtupple)\n",
    "print(skills)\n",
    "skills.remove(\"go\")\n",
    "print(skills)\n",
    "skills.pop(-1)\n",
    "print(skills)\n",
    "print(skills.pop())\n",
    "del skills[0]\n",
    "print(skills)\n",
    "skills.clear()\n",
    "print(skills)\n"
   ]
  },
  {
   "cell_type": "code",
   "execution_count": 129,
   "metadata": {},
   "outputs": [
    {
     "name": "stdout",
     "output_type": "stream",
     "text": [
      "container\n",
      "cloud\n",
      "scripting\n",
      "automation\n",
      "cloud\n"
     ]
    }
   ],
   "source": [
    "skills = [\"container\", \"cloud\", \"scripting\", \"automation\", \"cloud\"]\n",
    "for i in skills:\n",
    "    print(i)\n",
    "    "
   ]
  },
  {
   "cell_type": "code",
   "execution_count": 131,
   "metadata": {},
   "outputs": [
    {
     "name": "stdout",
     "output_type": "stream",
     "text": [
      "0\n",
      "1\n",
      "2\n",
      "3\n",
      "4\n"
     ]
    }
   ],
   "source": [
    "skills = [\"container\", \"cloud\", \"scripting\", \"automation\", \"cloud\"]\n",
    "i=0\n",
    "while i <len(skills):\n",
    "    print(i)\n",
    "    i=i+1"
   ]
  },
  {
   "cell_type": "code",
   "execution_count": 132,
   "metadata": {},
   "outputs": [],
   "source": [
    "#list comprehension \n",
    "#samaj nahi aaya"
   ]
  },
  {
   "cell_type": "code",
   "execution_count": 137,
   "metadata": {},
   "outputs": [
    {
     "name": "stdout",
     "output_type": "stream",
     "text": [
      "['automation', 'cloud', 'cloud', 'container', 'scripting']\n",
      "['scripting', 'container', 'cloud', 'cloud', 'automation']\n"
     ]
    }
   ],
   "source": [
    "skills = [\"container\", \"cloud\", \"scripting\", \"automation\", \"cloud\"]\n",
    "skills.sort()\n",
    "print(skills)\n",
    "skills.sort(reverse=True)\n",
    "print(skills)"
   ]
  },
  {
   "cell_type": "code",
   "execution_count": 139,
   "metadata": {},
   "outputs": [
    {
     "name": "stdout",
     "output_type": "stream",
     "text": [
      "['Automation', 'Container', 'Scripting', 'cloud', 'cloud']\n",
      "['cloud', 'cloud', 'Scripting', 'Container', 'Automation']\n"
     ]
    }
   ],
   "source": [
    "skills = [\"Container\", \"cloud\", \"Scripting\", \"Automation\", \"cloud\"]\n",
    "skills.sort() #case-sensitive\n",
    "print(skills)\n",
    "skills.sort(reverse=True)\n",
    "print(skills)"
   ]
  },
  {
   "cell_type": "code",
   "execution_count": 148,
   "metadata": {},
   "outputs": [
    {
     "name": "stdout",
     "output_type": "stream",
     "text": [
      "['Container', 'cloud', 'Scripting', 'Automation', 'cloud']\n",
      "['Container', 'cloud', 'Scripting', 'Automation', 'cloud']\n",
      "['Container', 'cloud', 'Scripting', 'Automation', 'cloud', 'Container', 'cloud', 'Scripting', 'Automation', 'cloud']\n",
      "['Container', 'cloud', 'Scripting', 'Automation', 'cloud', 'Container', 'cloud', 'Scripting', 'Automation', 'cloud']\n",
      "1\n"
     ]
    }
   ],
   "source": [
    "skills1 = [\"Container\", \"cloud\", \"Scripting\", \"Automation\", \"cloud\"]\n",
    "skills2 = skills1.copy()\n",
    "print(skills2)\n",
    "mylist = list(skills1)\n",
    "print(mylist)\n",
    "skills3 = skills1 + skills2\n",
    "print(skills3)\n",
    "skills1.extend(skills3)\n",
    "print(skills3)\n",
    "ch = skills2.index(\"cloud\")\n",
    "print(ch)"
   ]
  },
  {
   "cell_type": "code",
   "execution_count": 163,
   "metadata": {},
   "outputs": [
    {
     "name": "stdout",
     "output_type": "stream",
     "text": [
      "('cloud', 'aws', 'azure', 'google', 'aws')\n",
      "5\n",
      "<class 'tuple'>\n",
      "aws\n",
      "['cloud', 'aws', 'azure', 'google', 'aws']\n",
      "('cloud', 'aws', 'azure', 'google', 'aws', 'google')\n"
     ]
    }
   ],
   "source": [
    "#Tuple\n",
    "skills = ('cloud', 'aws', 'azure', 'google', 'aws')\n",
    "print(skills)\n",
    "print(len(skills))\n",
    "print(type(skills))\n",
    "print(skills[-1])\n",
    "y = list(skills)\n",
    "print(y)\n",
    "y.append(\"google\")\n",
    "print(tuple(y))   #same for remove \n",
    "#Unpacking a tuple: didn't get it "
   ]
  },
  {
   "cell_type": "code",
   "execution_count": 164,
   "metadata": {},
   "outputs": [
    {
     "name": "stdout",
     "output_type": "stream",
     "text": [
      "cloud\n",
      "aws\n",
      "azure\n",
      "google\n",
      "aws\n"
     ]
    }
   ],
   "source": [
    "skills = ('cloud', 'aws', 'azure', 'google', 'aws')\n",
    "for i in skills:\n",
    "    print(i)"
   ]
  },
  {
   "cell_type": "code",
   "execution_count": 169,
   "metadata": {},
   "outputs": [
    {
     "name": "stdout",
     "output_type": "stream",
     "text": [
      "cloud\n",
      "aws\n",
      "azure\n",
      "google\n",
      "aws\n"
     ]
    }
   ],
   "source": [
    "skills = ('cloud', 'aws', 'azure', 'google', 'aws')\n",
    "for i in range(len(skills)):\n",
    "    print(skills[i])\n",
    "    \n",
    "    # skills = ('cloud', 'aws', 'azure', 'google', 'aws')\n",
    "# i =0 \n",
    "# while i < len(skills):\n",
    "#     print(skills[i])\n",
    "#     i= i+1 #infinite loop"
   ]
  },
  {
   "cell_type": "code",
   "execution_count": 4,
   "metadata": {},
   "outputs": [
    {
     "name": "stdout",
     "output_type": "stream",
     "text": [
      "1\n"
     ]
    }
   ],
   "source": [
    "skills = ('cloud', 'aws', 'azure', 'google', 'aws')\n",
    "programming = ('python', 'go', 'kiku')\n",
    "#print(skills + programming)\n",
    "x = skills.count(2)\n",
    "x = skills.index('aws')\n",
    "print(x)\n"
   ]
  },
  {
   "cell_type": "code",
   "execution_count": 193,
   "metadata": {},
   "outputs": [
    {
     "name": "stdout",
     "output_type": "stream",
     "text": [
      "{'azure', 'cloud', 'aws', 'google'}\n",
      "<class 'set'>\n",
      "True\n",
      "{'goo', 'cloud', 'aws', 'google', 'azure'}\n",
      "{'donkey', 'goo', 'cloud', 'aws', 'kiki', 'google', 'azure', 'hai'}\n",
      "{'donkey', 'goo', 'cloud', 'kiki', 'google', 'azure', 'hai'}\n",
      "{'donkey', 'cloud', 'kiki', 'google', 'azure', 'hai'}\n",
      "{'cloud', 'kiki', 'google', 'azure', 'hai'}\n",
      "set()\n"
     ]
    }
   ],
   "source": [
    "#SET\n",
    "skills = {\"cloud\", \"aws\", \"azure\", \"google\", \"aws\"}\n",
    "gadha = {\"kiki\", \"donkey\", \"hai\"}\n",
    "print(skills)\n",
    "print(type(skills))\n",
    "print(\"cloud\" in skills)\n",
    "skills.add(\"goo\")\n",
    "print(skills)\n",
    "skills.update(gadha)\n",
    "print(skills)\n",
    "skills.remove(\"aws\")\n",
    "print(skills)\n",
    "skills.discard(\"goo\")\n",
    "print(skills)\n",
    "skills.pop()\n",
    "print(skills)\n",
    "skills.clear()\n",
    "print(skills)"
   ]
  },
  {
   "cell_type": "code",
   "execution_count": 6,
   "metadata": {},
   "outputs": [
    {
     "name": "stdout",
     "output_type": "stream",
     "text": [
      "{'cloud', 'azure', 'google', 'donkey', 'aws', 'kiki', 'hai'}\n",
      "{'cloud', 'azure', 'google', 'donkey', 'aws', 'kiki', 'hai'}\n",
      "4\n",
      "{'azure', 'google', 'aws'}\n"
     ]
    }
   ],
   "source": [
    "skills = {\"cloud\", \"aws\", \"azure\", \"google\", \"aws\"}\n",
    "gadha = {\"kiki\", \"donkey\", \"hai\"}\n",
    "set3 = skills.union(gadha)\n",
    "print(set3)\n",
    "set3 = skills | gadha \n",
    "print(set3)\n",
    "print(len(skills))\n",
    "#tupple to set \n",
    "t = ((\"aws\", \"azure\", \"google\"))\n",
    "print(set(t))"
   ]
  },
  {
   "cell_type": "code",
   "execution_count": 7,
   "metadata": {},
   "outputs": [
    {
     "name": "stdout",
     "output_type": "stream",
     "text": [
      "cloud\n",
      "azure\n",
      "google\n",
      "aws\n"
     ]
    }
   ],
   "source": [
    "#LOOP\n",
    "skills = {\"cloud\", \"aws\", \"azure\", \"google\", \"aws\"}\n",
    "for i in skills:\n",
    "    print(i)"
   ]
  },
  {
   "cell_type": "code",
   "execution_count": 19,
   "metadata": {},
   "outputs": [
    {
     "name": "stdout",
     "output_type": "stream",
     "text": [
      "True\n",
      "False\n",
      "{'cloud', 'azure', 'gcp', 'google', 'aws'}\n",
      "{'cloud', 'azure', 'gcp', 'd', 'a', 'b', 'google', 'c', 'aws'}\n",
      "{'cloud', 'azure', 'gcp', 'd', 'a', 'b', 'google', 'c', 'aws'}\n",
      "{'cloud', 'azure', 'gcp', 'd', 'a', 'b', 'c', 'aws'}\n",
      "{'azure', 'gcp', 'd', 'a', 'b', 'c', 'aws'}\n",
      "set()\n"
     ]
    }
   ],
   "source": [
    "#LOOP\n",
    "skills = {\"cloud\", \"aws\", \"azure\", \"google\", \"aws\"}\n",
    "print(\"aws\" in skills)\n",
    "print(\"aws\" not in skills)\n",
    "skills.add(\"gcp\")\n",
    "print(skills)\n",
    "new = {\"a\", \"b\", \"c\", \"d\"}\n",
    "skills.update(new)\n",
    "print(skills)\n",
    "skills.update(new)\n",
    "print(skills)\n",
    "skills.remove(\"google\")\n",
    "print(skills)\n",
    "skills.pop()\n",
    "print(skills)\n",
    "skills.clear()\n",
    "print(skills)\n",
    "for x in skills:\n",
    "    print(x)\n"
   ]
  },
  {
   "cell_type": "code",
   "execution_count": 27,
   "metadata": {},
   "outputs": [
    {
     "name": "stdout",
     "output_type": "stream",
     "text": [
      "{'cloud', 1, 'azure', 2, 3, 'd', 'a', 'b', 'google', 'c', 'aws'}\n",
      "set()\n",
      "set()\n",
      "None\n",
      "set()\n"
     ]
    }
   ],
   "source": [
    "#LOOP\n",
    "skills = {\"cloud\", \"aws\", \"azure\", \"google\", \"aws\"}\n",
    "new = {\"a\", \"b\", \"c\", \"d\"}\n",
    "mul = {1,2,3}\n",
    "c = skills.union(new, mul)\n",
    "print(c)\n",
    "d = skills.intersection(new)\n",
    "print(d)\n",
    "set3 = skills & mul\n",
    "print(set3)\n",
    "set4 = skills.intersection_update(new)\n",
    "print(set4)\n"
   ]
  },
  {
   "cell_type": "code",
   "execution_count": 32,
   "metadata": {},
   "outputs": [
    {
     "name": "stdout",
     "output_type": "stream",
     "text": [
      "{'cloud', 'azure', 'google'}\n",
      "{'cloud', 'azure', 'google'}\n",
      "{'b', 'cloud', 'azure', 'd', 'c', 'google'}\n",
      "{'b', 'cloud', 'azure', 'd', 'c', 'google'}\n"
     ]
    }
   ],
   "source": [
    "skills = {\"cloud\", \"aws\", \"azure\", \"google\", \"aws\", \"a\"}\n",
    "new = {\"a\", \"b\", \"c\", \"d\", \"aws\"}\n",
    "mul = {1,2,3}\n",
    "diff = skills.difference(new)\n",
    "print(diff)\n",
    "minus = skills - new\n",
    "print(minus)\n",
    "sym = skills.symmetric_difference(new)\n",
    "print(sym)\n",
    "join = skills ^ new\n",
    "print(join)"
   ]
  },
  {
   "cell_type": "code",
   "execution_count": 61,
   "metadata": {},
   "outputs": [
    {
     "name": "stdout",
     "output_type": "stream",
     "text": [
      "jayshree\n",
      "3\n",
      "<class 'dict'>\n",
      "24\n",
      "dict_keys(['name', 'age', 'surname'])\n",
      "dict_values(['jayshree', '24', 'acharya'])\n",
      "dict_items([('name', 'jayshree'), ('age', '24'), ('surname', 'acharya')])\n",
      "value of None is :\n",
      "the poped after result is:{'name': 'shree', 'surname': 'acharya'}\n",
      "the popeditem after result is:{'name': 'shree'}\n",
      "{}\n"
     ]
    }
   ],
   "source": [
    "#DICTIONARY\n",
    "me = {\"name\": \"jayshree\", \"age\":\"24\", \"surname\":\"acharya\"}\n",
    "edu = {\"2016\": \"ssc\", \"2018\":\"hsc\", \"2022\":\"btech\", \"2023\":\"devops\"}\n",
    "skills = {\"cloud\":\"aws\", \"container\": \"k8s\", \"iaac\":\"terraform\"}\n",
    "print(me['name'])\n",
    "print(len(me))\n",
    "print(type(me))\n",
    "g = me.get(\"age\")\n",
    "print(g)\n",
    "k = me.keys() #returns a list in a tuple  \n",
    "print(k)\n",
    "v = me.values()\n",
    "print(v)\n",
    "i = me.items()\n",
    "print(i)\n",
    "u = me.update({\"name\":\"shree\"})\n",
    "print(f\"value of {u} is :\")\n",
    "me.pop(\"age\")\n",
    "print(f\"the poped after result is:{me}\")\n",
    "me.popitem()\n",
    "print(f\"the popeditem after result is:{me}\")\n",
    "edu.clear()\n",
    "print(edu)\n",
    "# me[\"name\"] = shree\n",
    "# print(me)                ##DOUBT\n",
    "# if \"name\" not in me:\n",
    "#     print(\"yes\") \n"
   ]
  },
  {
   "cell_type": "code",
   "execution_count": 75,
   "metadata": {},
   "outputs": [
    {
     "name": "stdout",
     "output_type": "stream",
     "text": [
      "ssc\n",
      "hsc\n",
      "btech\n",
      "devops\n",
      "i showins all the keys: 2016\n",
      "i showins all the keys: 2018\n",
      "i showins all the keys: 2022\n",
      "i showins all the keys: 2023\n",
      "{'2016': 'ssc', '2018': 'hsc', '2022': 'btech', '2023': 'devops'}\n",
      "{'2016': 'ssc', '2018': 'hsc', '2022': 'btech', '2023': 'devops'}\n",
      "{'2016': 'ssc', '2018': 'hsc', '2022': 'btech', '2023': 'devops'}\n",
      "{'2016': 'ssc', '2018': 'hsc', '2022': 'btech', '2023': 'devops'}\n",
      "2016 ssc\n",
      "2018 hsc\n",
      "2022 btech\n",
      "2023 devops\n",
      "the copied c is: {'2016': 'ssc', '2018': 'hsc', '2022': 'btech', '2023': 'devops'}\n",
      "the copied through dict function d is: {'2016': 'ssc', '2018': 'hsc', '2022': 'btech', '2023': 'devops'}\n"
     ]
    }
   ],
   "source": [
    "#DICTIONARY loop\n",
    "me = {\"name\": \"jayshree\", \"age\":\"24\", \"surname\":\"acharya\"}\n",
    "edu = {\"2016\": \"ssc\", \"2018\":\"hsc\", \"2022\":\"btech\", \"2023\":\"devops\"}\n",
    "skills = {\"cloud\":\"aws\", \"container\": \"k8s\", \"iaac\":\"terraform\"}\n",
    "for i in edu:\n",
    "    print(edu[i])\n",
    "for i in edu:\n",
    "    print(f\"i showins all the keys: {i}\")\n",
    "for i in edu.values():\n",
    "    print(edu)\n",
    "for i,j in edu.items():\n",
    "    print(i,j)\n",
    "c = edu.copy()\n",
    "print(f\"the copied c is: {c}\")\n",
    "d = dict(edu)\n",
    "print(f\"the copied through dict function d is: {d}\")\n"
   ]
  },
  {
   "cell_type": "code",
   "execution_count": 79,
   "metadata": {},
   "outputs": [
    {
     "name": "stdout",
     "output_type": "stream",
     "text": [
      "{'me': {'name': 'jayshree', 'surname': 'acharya'}, 'skills': {'devops': 'container', 'cloud': 'aws'}}\n",
      "jayshree\n",
      "value for x:1\n",
      "value for x:1\n"
     ]
    }
   ],
   "source": [
    "#nested dict\n",
    "me = {\n",
    "    \"me\" : {\n",
    "        \"name\": \"jayshree\",\n",
    "        \"surname\": \"acharya\"\n",
    "    }, \n",
    "    \"skills\": {\n",
    "        \"devops\": \"container\",\n",
    "        \"cloud\":\"aws\"\n",
    "    }\n",
    "}\n",
    "print(me)\n",
    "print(me[\"me\"][\"name\"])\n",
    "for i in me.items():\n",
    "    print(f\"value for x:{x}\")"
   ]
  },
  {
   "cell_type": "code",
   "execution_count": null,
   "metadata": {},
   "outputs": [],
   "source": []
  }
 ],
 "metadata": {
  "kernelspec": {
   "display_name": "Python 3",
   "language": "python",
   "name": "python3"
  },
  "language_info": {
   "codemirror_mode": {
    "name": "ipython",
    "version": 3
   },
   "file_extension": ".py",
   "mimetype": "text/x-python",
   "name": "python",
   "nbconvert_exporter": "python",
   "pygments_lexer": "ipython3",
   "version": "3.10.11"
  }
 },
 "nbformat": 4,
 "nbformat_minor": 2
}
