{
 "cells": [
  {
   "cell_type": "code",
   "execution_count": 5,
   "metadata": {},
   "outputs": [
    {
     "name": "stdout",
     "output_type": "stream",
     "text": [
      "my name is:  jay\n",
      "my age is: 20\n"
     ]
    }
   ],
   "source": [
    "user_input = input(\"entre your name\")\n",
    "print(f\"my name is: \", user_input)\n",
    "\n",
    "age = int(input(\"entre your age\"))\n",
    "print(f\"my age is:\", age)"
   ]
  },
  {
   "cell_type": "code",
   "execution_count": 9,
   "metadata": {},
   "outputs": [
    {
     "name": "stdout",
     "output_type": "stream",
     "text": [
      "10.8765\n",
      "89.654\n",
      "your area is 487.5608655\n"
     ]
    }
   ],
   "source": [
    "#AREA OF TRIANGLE\n",
    "length = float(input(\"entre your length\"))\n",
    "width = float(input(\"entre your width\"))\n",
    "print(length)\n",
    "print(width)\n",
    "area = (length*width)/2\n",
    "print(f\"your area is {area}\")"
   ]
  },
  {
   "cell_type": "code",
   "execution_count": null,
   "metadata": {},
   "outputs": [
    {
     "name": "stdout",
     "output_type": "stream",
     "text": [
      "115.0\n",
      "2964.0\n"
     ]
    }
   ],
   "source": [
    "#2.Program to print the sum of digits of any number\n",
    "num1 = float(input(\"entre number1\"))\n",
    "num2 = float(input(\"entre number2\"))\n",
    "print(num1+num2)\n",
    "print(num1*num2)\n"
   ]
  },
  {
   "cell_type": "code",
   "execution_count": null,
   "metadata": {},
   "outputs": [],
   "source": [
    "git init\n"
   ]
  }
 ],
 "metadata": {
  "kernelspec": {
   "display_name": "Python 3",
   "language": "python",
   "name": "python3"
  },
  "language_info": {
   "codemirror_mode": {
    "name": "ipython",
    "version": 3
   },
   "file_extension": ".py",
   "mimetype": "text/x-python",
   "name": "python",
   "nbconvert_exporter": "python",
   "pygments_lexer": "ipython3",
   "version": "3.10.11"
  }
 },
 "nbformat": 4,
 "nbformat_minor": 2
}
